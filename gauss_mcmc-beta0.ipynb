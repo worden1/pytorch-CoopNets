{
 "cells": [
  {
   "cell_type": "code",
   "execution_count": 1,
   "metadata": {
    "scrolled": true
   },
   "outputs": [],
   "source": [
    "import torch\n",
    "import torch.nn as nn\n",
    "import numpy as np\n",
    "import math\n",
    "from torch.autograd import Variable\n",
    "import pylab as plt\n",
    "\n",
    "def est_psd(lst,d):\n",
    "    S = len(lst)\n",
    "    for s in range(S):\n",
    "        x = lst[s]\n",
    "        hatx = torch.rfft(x ,1 ,onesided=False)\n",
    "        amp2 = hatx[:,0]*hatx[:,0]+hatx[:,1]*hatx[:,1]\n",
    "        if s==0:\n",
    "            psd = amp2/d\n",
    "        else:\n",
    "            psd = psd + amp2/d\n",
    "    psd = psd/S\n",
    "    return psd\n",
    "\n",
    "def gauss_omega_mcmc_simulate_omega(Y_0 ,langevin_step_size ,langevin_step_num ,signal_size, beta, samplestep = 100):\n",
    "    assert(signal_size %2 ==0)\n",
    "    d = signal_size\n",
    "    Y_tau = Y_0.clone().requires_grad_(True)\n",
    "    Lambda = np.zeros(d)\n",
    "    invLambda = np.zeros(d)\n",
    "    for k in range(d):\n",
    "        if k < d/2:\n",
    "            omega = 2*math.pi * k / d\n",
    "        else:\n",
    "            omega = 2*math.pi * k / d - 2*math.pi\n",
    "        if k==0:\n",
    "            Lambda[k] = 0\n",
    "            invLambda[k] = 0\n",
    "        else:\n",
    "            Lambda[k] = (abs(omega) ** (-beta))\n",
    "            invLambda[k] = 1/Lambda[k]\n",
    "    #plt.plot(Lambda)\n",
    "    lst_noise = []\n",
    "    lst_ytau = []\n",
    "    for i in range(langevin_step_num):\n",
    "        if Y_tau.grad is not None:\n",
    "            Y_tau.grad.data.zero_()\n",
    "        noise = torch.randn(d)\n",
    "        if i % samplestep == 0:\n",
    "            lst_noise.append(noise)\n",
    "            lst_ytau.append(Y_tau.clone().detatch())\n",
    "        Y_ftau = torch.rfft(Y_tau ,1 ,onesided=False)\n",
    "        Y_aftau = Y_ftau[:,0]*Y_ftau[:,0]+Y_ftau[:,1]*Y_ftau[:,1]\n",
    "        #plt.plot(Y_aftau.numpy()/d)\n",
    "        beta_omega = torch.Tensor(invLambda)\n",
    "        Y_mul = (Y_aftau*beta_omega)/d\n",
    "        #plt.plot(Y_mul.numpy())\n",
    "        log_pY = -0.5 * Y_mul.sum() # -logZ\n",
    "        log_pY.backward()\n",
    "        Y_diff = 0.5 * (langevin_step_size**2)*Y_tau.grad + langevin_step_size * noise\n",
    "        #print(i, Y_tau.grad.norm()) # Y_tau, noise, Y_tau.grad)\n",
    "        Y_tau.data.add_(Y_diff.data)\n",
    "        print(i,log_pY)\n",
    "    \n",
    "    return lst_noise, lst_ytau, Lambda\n"
   ]
  },
  {
   "cell_type": "code",
   "execution_count": 2,
   "metadata": {},
   "outputs": [
    {
     "ename": "AttributeError",
     "evalue": "'Tensor' object has no attribute 'detatch'",
     "output_type": "error",
     "traceback": [
      "\u001b[0;31m---------------------------------------------------------------------------\u001b[0m",
      "\u001b[0;31mAttributeError\u001b[0m                            Traceback (most recent call last)",
      "\u001b[0;32m<ipython-input-2-567ab9238d26>\u001b[0m in \u001b[0;36m<module>\u001b[0;34m\u001b[0m\n\u001b[1;32m      5\u001b[0m \u001b[0;34m\u001b[0m\u001b[0m\n\u001b[1;32m      6\u001b[0m \u001b[0mY_0\u001b[0m \u001b[0;34m=\u001b[0m  \u001b[0mtorch\u001b[0m\u001b[0;34m.\u001b[0m\u001b[0mrandn\u001b[0m\u001b[0;34m(\u001b[0m\u001b[0mimage_size\u001b[0m\u001b[0;34m)\u001b[0m\u001b[0;34m\u001b[0m\u001b[0;34m\u001b[0m\u001b[0m\n\u001b[0;32m----> 7\u001b[0;31m \u001b[0mlst_noise\u001b[0m\u001b[0;34m,\u001b[0m \u001b[0mlst_ytau\u001b[0m\u001b[0;34m,\u001b[0m \u001b[0mLambda\u001b[0m \u001b[0;34m=\u001b[0m \u001b[0mgauss_omega_mcmc_simulate_omega\u001b[0m\u001b[0;34m(\u001b[0m\u001b[0mY_0\u001b[0m \u001b[0;34m,\u001b[0m\u001b[0mlangevin_step_size\u001b[0m \u001b[0;34m,\u001b[0m\u001b[0mlangevin_step_num\u001b[0m \u001b[0;34m,\u001b[0m\u001b[0mimage_size\u001b[0m\u001b[0;34m,\u001b[0m \u001b[0mbeta\u001b[0m\u001b[0;34m)\u001b[0m\u001b[0;34m\u001b[0m\u001b[0;34m\u001b[0m\u001b[0m\n\u001b[0m\u001b[1;32m      8\u001b[0m \u001b[0mpsd_noise\u001b[0m \u001b[0;34m=\u001b[0m \u001b[0mest_psd\u001b[0m\u001b[0;34m(\u001b[0m\u001b[0mlst_noise\u001b[0m\u001b[0;34m,\u001b[0m\u001b[0mimage_size\u001b[0m\u001b[0;34m)\u001b[0m\u001b[0;34m\u001b[0m\u001b[0;34m\u001b[0m\u001b[0m\n\u001b[1;32m      9\u001b[0m \u001b[0mpsd_ytau\u001b[0m \u001b[0;34m=\u001b[0m \u001b[0mest_psd\u001b[0m\u001b[0;34m(\u001b[0m\u001b[0mlst_ytau\u001b[0m\u001b[0;34m,\u001b[0m\u001b[0mimage_size\u001b[0m\u001b[0;34m)\u001b[0m\u001b[0;34m\u001b[0m\u001b[0;34m\u001b[0m\u001b[0m\n",
      "\u001b[0;32m<ipython-input-1-f0fd6dadf875>\u001b[0m in \u001b[0;36mgauss_omega_mcmc_simulate_omega\u001b[0;34m(Y_0, langevin_step_size, langevin_step_num, signal_size, beta, samplestep)\u001b[0m\n\u001b[1;32m     45\u001b[0m         \u001b[0;32mif\u001b[0m \u001b[0mi\u001b[0m \u001b[0;34m%\u001b[0m \u001b[0msamplestep\u001b[0m \u001b[0;34m==\u001b[0m \u001b[0;36m0\u001b[0m\u001b[0;34m:\u001b[0m\u001b[0;34m\u001b[0m\u001b[0;34m\u001b[0m\u001b[0m\n\u001b[1;32m     46\u001b[0m             \u001b[0mlst_noise\u001b[0m\u001b[0;34m.\u001b[0m\u001b[0mappend\u001b[0m\u001b[0;34m(\u001b[0m\u001b[0mnoise\u001b[0m\u001b[0;34m)\u001b[0m\u001b[0;34m\u001b[0m\u001b[0;34m\u001b[0m\u001b[0m\n\u001b[0;32m---> 47\u001b[0;31m             \u001b[0mlst_ytau\u001b[0m\u001b[0;34m.\u001b[0m\u001b[0mappend\u001b[0m\u001b[0;34m(\u001b[0m\u001b[0mY_tau\u001b[0m\u001b[0;34m.\u001b[0m\u001b[0mclone\u001b[0m\u001b[0;34m(\u001b[0m\u001b[0;34m)\u001b[0m\u001b[0;34m.\u001b[0m\u001b[0mdetatch\u001b[0m\u001b[0;34m(\u001b[0m\u001b[0;34m)\u001b[0m\u001b[0;34m)\u001b[0m\u001b[0;34m\u001b[0m\u001b[0;34m\u001b[0m\u001b[0m\n\u001b[0m\u001b[1;32m     48\u001b[0m         \u001b[0mY_ftau\u001b[0m \u001b[0;34m=\u001b[0m \u001b[0mtorch\u001b[0m\u001b[0;34m.\u001b[0m\u001b[0mrfft\u001b[0m\u001b[0;34m(\u001b[0m\u001b[0mY_tau\u001b[0m \u001b[0;34m,\u001b[0m\u001b[0;36m1\u001b[0m \u001b[0;34m,\u001b[0m\u001b[0monesided\u001b[0m\u001b[0;34m=\u001b[0m\u001b[0;32mFalse\u001b[0m\u001b[0;34m)\u001b[0m\u001b[0;34m\u001b[0m\u001b[0;34m\u001b[0m\u001b[0m\n\u001b[1;32m     49\u001b[0m         \u001b[0mY_aftau\u001b[0m \u001b[0;34m=\u001b[0m \u001b[0mY_ftau\u001b[0m\u001b[0;34m[\u001b[0m\u001b[0;34m:\u001b[0m\u001b[0;34m,\u001b[0m\u001b[0;36m0\u001b[0m\u001b[0;34m]\u001b[0m\u001b[0;34m*\u001b[0m\u001b[0mY_ftau\u001b[0m\u001b[0;34m[\u001b[0m\u001b[0;34m:\u001b[0m\u001b[0;34m,\u001b[0m\u001b[0;36m0\u001b[0m\u001b[0;34m]\u001b[0m\u001b[0;34m+\u001b[0m\u001b[0mY_ftau\u001b[0m\u001b[0;34m[\u001b[0m\u001b[0;34m:\u001b[0m\u001b[0;34m,\u001b[0m\u001b[0;36m1\u001b[0m\u001b[0;34m]\u001b[0m\u001b[0;34m*\u001b[0m\u001b[0mY_ftau\u001b[0m\u001b[0;34m[\u001b[0m\u001b[0;34m:\u001b[0m\u001b[0;34m,\u001b[0m\u001b[0;36m1\u001b[0m\u001b[0;34m]\u001b[0m\u001b[0;34m\u001b[0m\u001b[0;34m\u001b[0m\u001b[0m\n",
      "\u001b[0;31mAttributeError\u001b[0m: 'Tensor' object has no attribute 'detatch'"
     ]
    }
   ],
   "source": [
    "langevin_step_size = 0.001\n",
    "langevin_step_num = 20000\n",
    "beta = 0 # 1.2 # decay of power spectrum, Lambda(om) = |om|^(-beta)\n",
    "image_size = 64\n",
    "\n",
    "Y_0 =  torch.randn(image_size)\n",
    "lst_noise, lst_ytau, Lambda = gauss_omega_mcmc_simulate_omega(Y_0 ,langevin_step_size ,langevin_step_num ,image_size, beta)\n",
    "psd_noise = est_psd(lst_noise,image_size)\n",
    "psd_ytau = est_psd(lst_ytau,image_size)\n"
   ]
  },
  {
   "cell_type": "code",
   "execution_count": null,
   "metadata": {},
   "outputs": [],
   "source": [
    "plt.figure(figsize=(10,10))\n",
    "plt.subplot(311)\n",
    "plt.plot(psd_noise.data.numpy())\n",
    "plt.title('noise psd')\n",
    "plt.subplot(312)\n",
    "plt.plot(psd_ytau.data.numpy())\n",
    "plt.title('y_tau psd')\n",
    "plt.subplot(313)\n",
    "plt.plot(Lambda)"
   ]
  },
  {
   "cell_type": "code",
   "execution_count": null,
   "metadata": {},
   "outputs": [],
   "source": []
  }
 ],
 "metadata": {
  "kernelspec": {
   "display_name": "Python 3",
   "language": "python",
   "name": "python3"
  },
  "language_info": {
   "codemirror_mode": {
    "name": "ipython",
    "version": 3
   },
   "file_extension": ".py",
   "mimetype": "text/x-python",
   "name": "python",
   "nbconvert_exporter": "python",
   "pygments_lexer": "ipython3",
   "version": "3.6.8"
  }
 },
 "nbformat": 4,
 "nbformat_minor": 2
}
